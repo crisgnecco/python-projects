{
  "nbformat": 4,
  "nbformat_minor": 0,
  "metadata": {
    "colab": {
      "name": "BlurBoxFuncionando.ipynb",
      "provenance": [],
      "mount_file_id": "1RC208RH8w4ClrCCAfyN3VnW4lZx8UE-r",
      "authorship_tag": "ABX9TyO45KloQCVgz5a3CtLa9e5e",
      "include_colab_link": true
    },
    "kernelspec": {
      "name": "python3",
      "display_name": "Python 3"
    },
    "language_info": {
      "name": "python"
    },
    "accelerator": "GPU"
  },
  "cells": [
    {
      "cell_type": "markdown",
      "metadata": {
        "id": "view-in-github",
        "colab_type": "text"
      },
      "source": [
        "<a href=\"https://colab.research.google.com/github/crisgnecco/python-projects/blob/main/BlurBoxFuncionando.ipynb\" target=\"_parent\"><img src=\"https://colab.research.google.com/assets/colab-badge.svg\" alt=\"Open In Colab\"/></a>"
      ]
    },
    {
      "cell_type": "markdown",
      "metadata": {
        "id": "8upkVwlJYuRZ"
      },
      "source": [
        "\n",
        "---\n",
        "## 1.Instala en el cuaderno el módulo CUDA de Python."
      ]
    },
    {
      "cell_type": "code",
      "metadata": {
        "colab": {
          "base_uri": "https://localhost:8080/"
        },
        "id": "pXuV81uqURe0",
        "outputId": "6cb853b7-9f99-4c24-d8fc-2f47f5101634"
      },
      "source": [
        "!pip install pycuda"
      ],
      "execution_count": 2,
      "outputs": [
        {
          "output_type": "stream",
          "text": [
            "Collecting pycuda\n",
            "\u001b[?25l  Downloading https://files.pythonhosted.org/packages/5a/56/4682a5118a234d15aa1c8768a528aac4858c7b04d2674e18d586d3dfda04/pycuda-2021.1.tar.gz (1.7MB)\n",
            "\u001b[K     |████████████████████████████████| 1.7MB 6.8MB/s \n",
            "\u001b[?25h  Installing build dependencies ... \u001b[?25l\u001b[?25hdone\n",
            "  Getting requirements to build wheel ... \u001b[?25l\u001b[?25hdone\n",
            "    Preparing wheel metadata ... \u001b[?25l\u001b[?25hdone\n",
            "Requirement already satisfied: appdirs>=1.4.0 in /usr/local/lib/python3.7/dist-packages (from pycuda) (1.4.4)\n",
            "Collecting pytools>=2011.2\n",
            "\u001b[?25l  Downloading https://files.pythonhosted.org/packages/52/26/c7ab098ceb4e4e3f0e66e21257a286bb455ea22af7afefbd704d9ccf324c/pytools-2021.2.7.tar.gz (63kB)\n",
            "\u001b[K     |████████████████████████████████| 71kB 9.2MB/s \n",
            "\u001b[?25hCollecting mako\n",
            "\u001b[?25l  Downloading https://files.pythonhosted.org/packages/f3/54/dbc07fbb20865d3b78fdb7cf7fa713e2cba4f87f71100074ef2dc9f9d1f7/Mako-1.1.4-py2.py3-none-any.whl (75kB)\n",
            "\u001b[K     |████████████████████████████████| 81kB 11.2MB/s \n",
            "\u001b[?25hRequirement already satisfied: numpy>=1.6.0 in /usr/local/lib/python3.7/dist-packages (from pytools>=2011.2->pycuda) (1.19.5)\n",
            "Requirement already satisfied: MarkupSafe>=0.9.2 in /usr/local/lib/python3.7/dist-packages (from mako->pycuda) (2.0.1)\n",
            "Building wheels for collected packages: pycuda\n",
            "  Building wheel for pycuda (PEP 517) ... \u001b[?25l\u001b[?25hdone\n",
            "  Created wheel for pycuda: filename=pycuda-2021.1-cp37-cp37m-linux_x86_64.whl size=627502 sha256=90d2611bba12e81cb2b521a8b0813f4806aab6b23e476f6fcc6c8b162523752a\n",
            "  Stored in directory: /root/.cache/pip/wheels/d5/55/64/fd4dddcc5f1c25eebd90b5291c3769101dc978c70165685512\n",
            "Successfully built pycuda\n",
            "Building wheels for collected packages: pytools\n",
            "  Building wheel for pytools (setup.py) ... \u001b[?25l\u001b[?25hdone\n",
            "  Created wheel for pytools: filename=pytools-2021.2.7-py2.py3-none-any.whl size=60644 sha256=b87ff8d1e08dfb56881c7869bf314c633f8e0dc188fb52ab26facebd5dcb5c3b\n",
            "  Stored in directory: /root/.cache/pip/wheels/a0/b5/e5/e65d25997fd77729b9aa214645add18688483e48bbcbab6ffc\n",
            "Successfully built pytools\n",
            "Installing collected packages: pytools, mako, pycuda\n",
            "Successfully installed mako-1.1.4 pycuda-2021.1 pytools-2021.2.7\n"
          ],
          "name": "stdout"
        }
      ]
    },
    {
      "cell_type": "markdown",
      "metadata": {
        "id": "RQd5hYAbZEDX"
      },
      "source": [
        "## 2. Ejecutar Blur con CUDA de Python.\n",
        "### - se requiere archivo gaussian_blur.cu \n",
        "### - Poner el nombre de la imagen origen y resultado.\n",
        "### - para ajustar la intensidad del blur, cambiar la variable \"sigma\"// esto se podria parametrizar lindo como hizo el profe\n"
      ]
    },
    {
      "cell_type": "code",
      "metadata": {
        "colab": {
          "base_uri": "https://localhost:8080/"
        },
        "id": "nQzja6t9Tk2U",
        "outputId": "b22b29b9-520b-4c2e-de0f-303969cd82e0"
      },
      "source": [
        "# /**\n",
        "# * @author Gia Duy DUONG <giaduy.duong@student.lut.fi>\n",
        "# * @project Gaussian Blur - GPGPU Computing assignment\n",
        "# * @copyright Copyright (c) 2019 Gia Duy DUONG\n",
        "# */\n",
        "\n",
        "# ########################### #\n",
        "# import cuda & other modules #\n",
        "# ########################### #\n",
        "import pycuda.autoinit\n",
        "import pycuda.driver as drv\n",
        "import pycuda.compiler as compiler\n",
        "import numpy as np\n",
        "import math\n",
        "import sys\n",
        "import timeit\n",
        "from PIL import Image\n",
        "\n",
        "# ############### #\n",
        "# check arguments #\n",
        "# ############### #\n",
        "try:\n",
        "    input_image = str('unlam.jpg')\n",
        "    output_image = str('result5.jpg')\n",
        "except IndexError:\n",
        "    sys.exit(\"No input/output image\")\n",
        "\n",
        "\n",
        "# ################################################# #\n",
        "# load image in to array and extract color channels #\n",
        "# ################################################# #\n",
        "try:\n",
        "    img = Image.open(input_image)\n",
        "    input_array = np.array(img)\n",
        "    red_channel = input_array[:, :, 0].copy()\n",
        "    green_channel = input_array[:, :, 1].copy()\n",
        "    blue_channel = input_array[:, :, 2].copy()\n",
        "except FileNotFoundError:\n",
        "    sys.exit(\"Cannot load image file\")\n",
        "\n",
        "\n",
        "# ######################################## #\n",
        "# generate gaussian kernel (size of N * N) #\n",
        "# ######################################## #\n",
        "sigma = 5  # standard deviation of the distribution\n",
        "kernel_width = int(3 * sigma)\n",
        "if kernel_width % 2 == 0:\n",
        "    kernel_width = kernel_width - 1  # make sure kernel width only sth 3,5,7 etc\n",
        "\n",
        "# create empty matrix for the gaussian kernel #\n",
        "kernel_matrix = np.empty((kernel_width, kernel_width), np.float32)\n",
        "kernel_half_width = kernel_width // 2\n",
        "for i in range(-kernel_half_width, kernel_half_width + 1):\n",
        "    for j in range(-kernel_half_width, kernel_half_width + 1):\n",
        "        kernel_matrix[i + kernel_half_width][j + kernel_half_width] = (\n",
        "                np.exp(-(i ** 2 + j ** 2) / (2 * sigma ** 2))\n",
        "                / (2 * np.pi * sigma ** 2)\n",
        "        )\n",
        "gaussian_kernel = kernel_matrix / kernel_matrix.sum()\n",
        "\n",
        "\n",
        "# #################################################################### #\n",
        "# calculate the CUDA threats/blocks/gird base on width/height of image\n",
        "# #################################################################### #\n",
        "height, width = input_array.shape[:2]\n",
        "dim_block = 32\n",
        "dim_grid_x = math.ceil(width / dim_block)\n",
        "dim_grid_y = math.ceil(height / dim_block)\n",
        "\n",
        "# load CUDA code\n",
        "mod = compiler.SourceModule(open('gaussian_blur.cu').read())\n",
        "apply_filter = mod.get_function('applyFilter')\n",
        "\n",
        "# ##################\n",
        "# apply the  filter\n",
        "# ##################\n",
        "# start time\n",
        "time_started = timeit.default_timer()\n",
        "for channel in (red_channel, green_channel, blue_channel):\n",
        "    apply_filter(\n",
        "        drv.In(channel),\n",
        "        drv.Out(channel),\n",
        "        np.uint32(width),\n",
        "        np.uint32(height),\n",
        "        drv.In(gaussian_kernel),\n",
        "        np.uint32(kernel_width),\n",
        "        block=(dim_block, dim_block, 1),\n",
        "        grid=(dim_grid_x, dim_grid_y)\n",
        "    )\n",
        "# end time\n",
        "time_ended = timeit.default_timer()\n",
        "\n",
        "\n",
        "# ####################################################################### #\n",
        "# create the output array with the same shape and type as the input array #\n",
        "# ####################################################################### #\n",
        "output_array = np.empty_like(input_array)\n",
        "output_array[:, :, 0] = red_channel\n",
        "output_array[:, :, 1] = green_channel\n",
        "output_array[:, :, 2] = blue_channel\n",
        "\n",
        "# save result image\n",
        "Image.fromarray(output_array).save(output_image)\n",
        "\n",
        "# display total time\n",
        "print('Total processing time: ', time_ended - time_started, 's')\n"
      ],
      "execution_count": 12,
      "outputs": [
        {
          "output_type": "stream",
          "text": [
            "Total processing time:  0.005973800999981904 s\n"
          ],
          "name": "stdout"
        }
      ]
    }
  ]
}