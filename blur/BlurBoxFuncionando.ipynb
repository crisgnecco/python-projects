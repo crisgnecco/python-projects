{
  "nbformat": 4,
  "nbformat_minor": 0,
  "metadata": {
    "colab": {
      "name": "BlurBoxFuncionando.ipynb",
      "provenance": [],
      "mount_file_id": "1RC208RH8w4ClrCCAfyN3VnW4lZx8UE-r",
      "authorship_tag": "ABX9TyO69/UlHvYAFcUHTbAXn96N",
      "include_colab_link": true
    },
    "kernelspec": {
      "name": "python3",
      "display_name": "Python 3"
    },
    "language_info": {
      "name": "python"
    },
    "accelerator": "GPU"
  },
  "cells": [
    {
      "cell_type": "markdown",
      "metadata": {
        "id": "view-in-github",
        "colab_type": "text"
      },
      "source": [
        "<a href=\"https://colab.research.google.com/github/crisgnecco/python-projects/blob/main/blur/BlurBoxFuncionando.ipynb\" target=\"_parent\"><img src=\"https://colab.research.google.com/assets/colab-badge.svg\" alt=\"Open In Colab\"/></a>"
      ]
    },
    {
      "cell_type": "code",
      "metadata": {
        "colab": {
          "base_uri": "https://localhost:8080/"
        },
        "id": "WmIc-DbijJ9A",
        "outputId": "66e3e2ec-565b-4932-9e8d-89f20815e9f9"
      },
      "source": [
        "#@title ## 0.1 Parámetros de ejecución\n",
        "#@markdown ---\n",
        "#@markdown ### Especifique la URL de la imagen:\n",
        "url_imagen = \"https://github.com/wvaliente/SOA_HPC/blob/main/unlam.jpg?raw=true\" #@param {type:\"string\"}\n",
        "\n",
        "#@markdown ---\n",
        "# Leo la imagen desde internet.\n",
        "#!wget https://github.com/wvaliente/SOA_HPC/blob/main/unlam.jpg?raw=true -O imagen.jpg\n",
        "\n",
        "# TODO: Mejorar información y resultado de ejecución. \n",
        "!wget {url_imagen} -O imagen.jpg\n",
        "\n",
        "#descargo archivo de kernel CUDA //TODO: pincha al leer el archivo\n",
        "#!wget {\"https://github.com/crisgnecco/python-projects/blob/db78e7a99ce639b9e1bfe9d2fb78d4fd640b2060/blur/gaussian_blur.cu\"}"
      ],
      "execution_count": 12,
      "outputs": [
        {
          "output_type": "stream",
          "text": [
            "--2021-06-30 15:43:50--  https://github.com/wvaliente/SOA_HPC/blob/main/unlam.jpg?raw=true\n",
            "Resolving github.com (github.com)... 140.82.113.3\n",
            "Connecting to github.com (github.com)|140.82.113.3|:443... connected.\n",
            "HTTP request sent, awaiting response... 302 Found\n",
            "Location: https://github.com/wvaliente/SOA_HPC/raw/main/unlam.jpg [following]\n",
            "--2021-06-30 15:43:50--  https://github.com/wvaliente/SOA_HPC/raw/main/unlam.jpg\n",
            "Reusing existing connection to github.com:443.\n",
            "HTTP request sent, awaiting response... 302 Found\n",
            "Location: https://raw.githubusercontent.com/wvaliente/SOA_HPC/main/unlam.jpg [following]\n",
            "--2021-06-30 15:43:50--  https://raw.githubusercontent.com/wvaliente/SOA_HPC/main/unlam.jpg\n",
            "Resolving raw.githubusercontent.com (raw.githubusercontent.com)... 185.199.108.133, 185.199.109.133, 185.199.110.133, ...\n",
            "Connecting to raw.githubusercontent.com (raw.githubusercontent.com)|185.199.108.133|:443... connected.\n",
            "HTTP request sent, awaiting response... 200 OK\n",
            "Length: 147032 (144K) [image/jpeg]\n",
            "Saving to: ‘imagen.jpg’\n",
            "\n",
            "\rimagen.jpg            0%[                    ]       0  --.-KB/s               \rimagen.jpg          100%[===================>] 143.59K  --.-KB/s    in 0.004s  \n",
            "\n",
            "2021-06-30 15:43:50 (39.9 MB/s) - ‘imagen.jpg’ saved [147032/147032]\n",
            "\n",
            "--2021-06-30 15:43:51--  https://github.com/crisgnecco/python-projects/blob/db78e7a99ce639b9e1bfe9d2fb78d4fd640b2060/blur/gaussian_blur.cu\n",
            "Resolving github.com (github.com)... 140.82.113.3\n",
            "Connecting to github.com (github.com)|140.82.113.3|:443... connected.\n",
            "HTTP request sent, awaiting response... 200 OK\n",
            "Length: unspecified [text/html]\n",
            "Saving to: ‘gaussian_blur.cu.2’\n",
            "\n",
            "gaussian_blur.cu.2      [ <=>                ] 116.52K  --.-KB/s    in 0.007s  \n",
            "\n",
            "2021-06-30 15:43:51 (15.9 MB/s) - ‘gaussian_blur.cu.2’ saved [119319]\n",
            "\n"
          ],
          "name": "stdout"
        }
      ]
    },
    {
      "cell_type": "markdown",
      "metadata": {
        "id": "8upkVwlJYuRZ"
      },
      "source": [
        "\n",
        "---\n",
        "## 1.Instala en el cuaderno el módulo CUDA de Python."
      ]
    },
    {
      "cell_type": "code",
      "metadata": {
        "colab": {
          "base_uri": "https://localhost:8080/"
        },
        "id": "pXuV81uqURe0",
        "outputId": "a553981d-44be-4310-a2e2-67a7ddcafd7f"
      },
      "source": [
        "!pip install pycuda"
      ],
      "execution_count": 1,
      "outputs": [
        {
          "output_type": "stream",
          "text": [
            "Collecting pycuda\n",
            "\u001b[?25l  Downloading https://files.pythonhosted.org/packages/5a/56/4682a5118a234d15aa1c8768a528aac4858c7b04d2674e18d586d3dfda04/pycuda-2021.1.tar.gz (1.7MB)\n",
            "\r\u001b[K     |▏                               | 10kB 24.0MB/s eta 0:00:01\r\u001b[K     |▍                               | 20kB 28.7MB/s eta 0:00:01\r\u001b[K     |▋                               | 30kB 31.4MB/s eta 0:00:01\r\u001b[K     |▉                               | 40kB 33.4MB/s eta 0:00:01\r\u001b[K     |█                               | 51kB 34.0MB/s eta 0:00:01\r\u001b[K     |█▏                              | 61kB 35.2MB/s eta 0:00:01\r\u001b[K     |█▍                              | 71kB 35.8MB/s eta 0:00:01\r\u001b[K     |█▋                              | 81kB 35.5MB/s eta 0:00:01\r\u001b[K     |█▊                              | 92kB 36.0MB/s eta 0:00:01\r\u001b[K     |██                              | 102kB 36.1MB/s eta 0:00:01\r\u001b[K     |██▏                             | 112kB 36.1MB/s eta 0:00:01\r\u001b[K     |██▍                             | 122kB 36.1MB/s eta 0:00:01\r\u001b[K     |██▌                             | 133kB 36.1MB/s eta 0:00:01\r\u001b[K     |██▊                             | 143kB 36.1MB/s eta 0:00:01\r\u001b[K     |███                             | 153kB 36.1MB/s eta 0:00:01\r\u001b[K     |███▏                            | 163kB 36.1MB/s eta 0:00:01\r\u001b[K     |███▎                            | 174kB 36.1MB/s eta 0:00:01\r\u001b[K     |███▌                            | 184kB 36.1MB/s eta 0:00:01\r\u001b[K     |███▊                            | 194kB 36.1MB/s eta 0:00:01\r\u001b[K     |████                            | 204kB 36.1MB/s eta 0:00:01\r\u001b[K     |████                            | 215kB 36.1MB/s eta 0:00:01\r\u001b[K     |████▎                           | 225kB 36.1MB/s eta 0:00:01\r\u001b[K     |████▌                           | 235kB 36.1MB/s eta 0:00:01\r\u001b[K     |████▊                           | 245kB 36.1MB/s eta 0:00:01\r\u001b[K     |████▉                           | 256kB 36.1MB/s eta 0:00:01\r\u001b[K     |█████                           | 266kB 36.1MB/s eta 0:00:01\r\u001b[K     |█████▎                          | 276kB 36.1MB/s eta 0:00:01\r\u001b[K     |█████▌                          | 286kB 36.1MB/s eta 0:00:01\r\u001b[K     |█████▋                          | 296kB 36.1MB/s eta 0:00:01\r\u001b[K     |█████▉                          | 307kB 36.1MB/s eta 0:00:01\r\u001b[K     |██████                          | 317kB 36.1MB/s eta 0:00:01\r\u001b[K     |██████▎                         | 327kB 36.1MB/s eta 0:00:01\r\u001b[K     |██████▍                         | 337kB 36.1MB/s eta 0:00:01\r\u001b[K     |██████▋                         | 348kB 36.1MB/s eta 0:00:01\r\u001b[K     |██████▉                         | 358kB 36.1MB/s eta 0:00:01\r\u001b[K     |███████                         | 368kB 36.1MB/s eta 0:00:01\r\u001b[K     |███████▏                        | 378kB 36.1MB/s eta 0:00:01\r\u001b[K     |███████▍                        | 389kB 36.1MB/s eta 0:00:01\r\u001b[K     |███████▋                        | 399kB 36.1MB/s eta 0:00:01\r\u001b[K     |███████▉                        | 409kB 36.1MB/s eta 0:00:01\r\u001b[K     |████████                        | 419kB 36.1MB/s eta 0:00:01\r\u001b[K     |████████▏                       | 430kB 36.1MB/s eta 0:00:01\r\u001b[K     |████████▍                       | 440kB 36.1MB/s eta 0:00:01\r\u001b[K     |████████▋                       | 450kB 36.1MB/s eta 0:00:01\r\u001b[K     |████████▊                       | 460kB 36.1MB/s eta 0:00:01\r\u001b[K     |█████████                       | 471kB 36.1MB/s eta 0:00:01\r\u001b[K     |█████████▏                      | 481kB 36.1MB/s eta 0:00:01\r\u001b[K     |█████████▍                      | 491kB 36.1MB/s eta 0:00:01\r\u001b[K     |█████████▌                      | 501kB 36.1MB/s eta 0:00:01\r\u001b[K     |█████████▊                      | 512kB 36.1MB/s eta 0:00:01\r\u001b[K     |██████████                      | 522kB 36.1MB/s eta 0:00:01\r\u001b[K     |██████████▏                     | 532kB 36.1MB/s eta 0:00:01\r\u001b[K     |██████████▎                     | 542kB 36.1MB/s eta 0:00:01\r\u001b[K     |██████████▌                     | 552kB 36.1MB/s eta 0:00:01\r\u001b[K     |██████████▊                     | 563kB 36.1MB/s eta 0:00:01\r\u001b[K     |███████████                     | 573kB 36.1MB/s eta 0:00:01\r\u001b[K     |███████████                     | 583kB 36.1MB/s eta 0:00:01\r\u001b[K     |███████████▎                    | 593kB 36.1MB/s eta 0:00:01\r\u001b[K     |███████████▌                    | 604kB 36.1MB/s eta 0:00:01\r\u001b[K     |███████████▊                    | 614kB 36.1MB/s eta 0:00:01\r\u001b[K     |███████████▉                    | 624kB 36.1MB/s eta 0:00:01\r\u001b[K     |████████████                    | 634kB 36.1MB/s eta 0:00:01\r\u001b[K     |████████████▎                   | 645kB 36.1MB/s eta 0:00:01\r\u001b[K     |████████████▌                   | 655kB 36.1MB/s eta 0:00:01\r\u001b[K     |████████████▋                   | 665kB 36.1MB/s eta 0:00:01\r\u001b[K     |████████████▉                   | 675kB 36.1MB/s eta 0:00:01\r\u001b[K     |█████████████                   | 686kB 36.1MB/s eta 0:00:01\r\u001b[K     |█████████████▎                  | 696kB 36.1MB/s eta 0:00:01\r\u001b[K     |█████████████▍                  | 706kB 36.1MB/s eta 0:00:01\r\u001b[K     |█████████████▋                  | 716kB 36.1MB/s eta 0:00:01\r\u001b[K     |█████████████▉                  | 727kB 36.1MB/s eta 0:00:01\r\u001b[K     |██████████████                  | 737kB 36.1MB/s eta 0:00:01\r\u001b[K     |██████████████▏                 | 747kB 36.1MB/s eta 0:00:01\r\u001b[K     |██████████████▍                 | 757kB 36.1MB/s eta 0:00:01\r\u001b[K     |██████████████▋                 | 768kB 36.1MB/s eta 0:00:01\r\u001b[K     |██████████████▉                 | 778kB 36.1MB/s eta 0:00:01\r\u001b[K     |███████████████                 | 788kB 36.1MB/s eta 0:00:01\r\u001b[K     |███████████████▏                | 798kB 36.1MB/s eta 0:00:01\r\u001b[K     |███████████████▍                | 808kB 36.1MB/s eta 0:00:01\r\u001b[K     |███████████████▋                | 819kB 36.1MB/s eta 0:00:01\r\u001b[K     |███████████████▊                | 829kB 36.1MB/s eta 0:00:01\r\u001b[K     |████████████████                | 839kB 36.1MB/s eta 0:00:01\r\u001b[K     |████████████████▏               | 849kB 36.1MB/s eta 0:00:01\r\u001b[K     |████████████████▍               | 860kB 36.1MB/s eta 0:00:01\r\u001b[K     |████████████████▌               | 870kB 36.1MB/s eta 0:00:01\r\u001b[K     |████████████████▊               | 880kB 36.1MB/s eta 0:00:01\r\u001b[K     |█████████████████               | 890kB 36.1MB/s eta 0:00:01\r\u001b[K     |█████████████████▏              | 901kB 36.1MB/s eta 0:00:01\r\u001b[K     |█████████████████▍              | 911kB 36.1MB/s eta 0:00:01\r\u001b[K     |█████████████████▌              | 921kB 36.1MB/s eta 0:00:01\r\u001b[K     |█████████████████▊              | 931kB 36.1MB/s eta 0:00:01\r\u001b[K     |██████████████████              | 942kB 36.1MB/s eta 0:00:01\r\u001b[K     |██████████████████▏             | 952kB 36.1MB/s eta 0:00:01\r\u001b[K     |██████████████████▎             | 962kB 36.1MB/s eta 0:00:01\r\u001b[K     |██████████████████▌             | 972kB 36.1MB/s eta 0:00:01\r\u001b[K     |██████████████████▊             | 983kB 36.1MB/s eta 0:00:01\r\u001b[K     |███████████████████             | 993kB 36.1MB/s eta 0:00:01\r\u001b[K     |███████████████████             | 1.0MB 36.1MB/s eta 0:00:01\r\u001b[K     |███████████████████▎            | 1.0MB 36.1MB/s eta 0:00:01\r\u001b[K     |███████████████████▌            | 1.0MB 36.1MB/s eta 0:00:01\r\u001b[K     |███████████████████▊            | 1.0MB 36.1MB/s eta 0:00:01\r\u001b[K     |███████████████████▉            | 1.0MB 36.1MB/s eta 0:00:01\r\u001b[K     |████████████████████            | 1.1MB 36.1MB/s eta 0:00:01\r\u001b[K     |████████████████████▎           | 1.1MB 36.1MB/s eta 0:00:01\r\u001b[K     |████████████████████▌           | 1.1MB 36.1MB/s eta 0:00:01\r\u001b[K     |████████████████████▋           | 1.1MB 36.1MB/s eta 0:00:01\r\u001b[K     |████████████████████▉           | 1.1MB 36.1MB/s eta 0:00:01\r\u001b[K     |█████████████████████           | 1.1MB 36.1MB/s eta 0:00:01\r\u001b[K     |█████████████████████▎          | 1.1MB 36.1MB/s eta 0:00:01\r\u001b[K     |█████████████████████▍          | 1.1MB 36.1MB/s eta 0:00:01\r\u001b[K     |█████████████████████▋          | 1.1MB 36.1MB/s eta 0:00:01\r\u001b[K     |█████████████████████▉          | 1.1MB 36.1MB/s eta 0:00:01\r\u001b[K     |██████████████████████          | 1.2MB 36.1MB/s eta 0:00:01\r\u001b[K     |██████████████████████▏         | 1.2MB 36.1MB/s eta 0:00:01\r\u001b[K     |██████████████████████▍         | 1.2MB 36.1MB/s eta 0:00:01\r\u001b[K     |██████████████████████▋         | 1.2MB 36.1MB/s eta 0:00:01\r\u001b[K     |██████████████████████▉         | 1.2MB 36.1MB/s eta 0:00:01\r\u001b[K     |███████████████████████         | 1.2MB 36.1MB/s eta 0:00:01\r\u001b[K     |███████████████████████▏        | 1.2MB 36.1MB/s eta 0:00:01\r\u001b[K     |███████████████████████▍        | 1.2MB 36.1MB/s eta 0:00:01\r\u001b[K     |███████████████████████▋        | 1.2MB 36.1MB/s eta 0:00:01\r\u001b[K     |███████████████████████▊        | 1.2MB 36.1MB/s eta 0:00:01\r\u001b[K     |████████████████████████        | 1.3MB 36.1MB/s eta 0:00:01\r\u001b[K     |████████████████████████▏       | 1.3MB 36.1MB/s eta 0:00:01\r\u001b[K     |████████████████████████▍       | 1.3MB 36.1MB/s eta 0:00:01\r\u001b[K     |████████████████████████▌       | 1.3MB 36.1MB/s eta 0:00:01\r\u001b[K     |████████████████████████▊       | 1.3MB 36.1MB/s eta 0:00:01\r\u001b[K     |█████████████████████████       | 1.3MB 36.1MB/s eta 0:00:01\r\u001b[K     |█████████████████████████▏      | 1.3MB 36.1MB/s eta 0:00:01\r\u001b[K     |█████████████████████████▎      | 1.3MB 36.1MB/s eta 0:00:01\r\u001b[K     |█████████████████████████▌      | 1.3MB 36.1MB/s eta 0:00:01\r\u001b[K     |█████████████████████████▊      | 1.4MB 36.1MB/s eta 0:00:01\r\u001b[K     |██████████████████████████      | 1.4MB 36.1MB/s eta 0:00:01\r\u001b[K     |██████████████████████████      | 1.4MB 36.1MB/s eta 0:00:01\r\u001b[K     |██████████████████████████▎     | 1.4MB 36.1MB/s eta 0:00:01\r\u001b[K     |██████████████████████████▌     | 1.4MB 36.1MB/s eta 0:00:01\r\u001b[K     |██████████████████████████▊     | 1.4MB 36.1MB/s eta 0:00:01\r\u001b[K     |██████████████████████████▉     | 1.4MB 36.1MB/s eta 0:00:01\r\u001b[K     |███████████████████████████     | 1.4MB 36.1MB/s eta 0:00:01\r\u001b[K     |███████████████████████████▎    | 1.4MB 36.1MB/s eta 0:00:01\r\u001b[K     |███████████████████████████▌    | 1.4MB 36.1MB/s eta 0:00:01\r\u001b[K     |███████████████████████████▋    | 1.5MB 36.1MB/s eta 0:00:01\r\u001b[K     |███████████████████████████▉    | 1.5MB 36.1MB/s eta 0:00:01\r\u001b[K     |████████████████████████████    | 1.5MB 36.1MB/s eta 0:00:01\r\u001b[K     |████████████████████████████▎   | 1.5MB 36.1MB/s eta 0:00:01\r\u001b[K     |████████████████████████████▍   | 1.5MB 36.1MB/s eta 0:00:01\r\u001b[K     |████████████████████████████▋   | 1.5MB 36.1MB/s eta 0:00:01\r\u001b[K     |████████████████████████████▉   | 1.5MB 36.1MB/s eta 0:00:01\r\u001b[K     |█████████████████████████████   | 1.5MB 36.1MB/s eta 0:00:01\r\u001b[K     |█████████████████████████████▏  | 1.5MB 36.1MB/s eta 0:00:01\r\u001b[K     |█████████████████████████████▍  | 1.5MB 36.1MB/s eta 0:00:01\r\u001b[K     |█████████████████████████████▋  | 1.6MB 36.1MB/s eta 0:00:01\r\u001b[K     |█████████████████████████████▉  | 1.6MB 36.1MB/s eta 0:00:01\r\u001b[K     |██████████████████████████████  | 1.6MB 36.1MB/s eta 0:00:01\r\u001b[K     |██████████████████████████████▏ | 1.6MB 36.1MB/s eta 0:00:01\r\u001b[K     |██████████████████████████████▍ | 1.6MB 36.1MB/s eta 0:00:01\r\u001b[K     |██████████████████████████████▋ | 1.6MB 36.1MB/s eta 0:00:01\r\u001b[K     |██████████████████████████████▊ | 1.6MB 36.1MB/s eta 0:00:01\r\u001b[K     |███████████████████████████████ | 1.6MB 36.1MB/s eta 0:00:01\r\u001b[K     |███████████████████████████████▏| 1.6MB 36.1MB/s eta 0:00:01\r\u001b[K     |███████████████████████████████▍| 1.6MB 36.1MB/s eta 0:00:01\r\u001b[K     |███████████████████████████████▌| 1.7MB 36.1MB/s eta 0:00:01\r\u001b[K     |███████████████████████████████▊| 1.7MB 36.1MB/s eta 0:00:01\r\u001b[K     |████████████████████████████████| 1.7MB 36.1MB/s eta 0:00:01\r\u001b[K     |████████████████████████████████| 1.7MB 36.1MB/s \n",
            "\u001b[?25h  Installing build dependencies ... \u001b[?25l\u001b[?25hdone\n",
            "  Getting requirements to build wheel ... \u001b[?25l\u001b[?25hdone\n",
            "    Preparing wheel metadata ... \u001b[?25l\u001b[?25hdone\n",
            "Collecting mako\n",
            "\u001b[?25l  Downloading https://files.pythonhosted.org/packages/f3/54/dbc07fbb20865d3b78fdb7cf7fa713e2cba4f87f71100074ef2dc9f9d1f7/Mako-1.1.4-py2.py3-none-any.whl (75kB)\n",
            "\u001b[K     |████████████████████████████████| 81kB 11.7MB/s \n",
            "\u001b[?25hRequirement already satisfied: appdirs>=1.4.0 in /usr/local/lib/python3.7/dist-packages (from pycuda) (1.4.4)\n",
            "Collecting pytools>=2011.2\n",
            "\u001b[?25l  Downloading https://files.pythonhosted.org/packages/52/26/c7ab098ceb4e4e3f0e66e21257a286bb455ea22af7afefbd704d9ccf324c/pytools-2021.2.7.tar.gz (63kB)\n",
            "\u001b[K     |████████████████████████████████| 71kB 11.9MB/s \n",
            "\u001b[?25hRequirement already satisfied: MarkupSafe>=0.9.2 in /usr/local/lib/python3.7/dist-packages (from mako->pycuda) (2.0.1)\n",
            "Requirement already satisfied: numpy>=1.6.0 in /usr/local/lib/python3.7/dist-packages (from pytools>=2011.2->pycuda) (1.19.5)\n",
            "Building wheels for collected packages: pycuda\n",
            "  Building wheel for pycuda (PEP 517) ... \u001b[?25l\u001b[?25hdone\n",
            "  Created wheel for pycuda: filename=pycuda-2021.1-cp37-cp37m-linux_x86_64.whl size=627502 sha256=700f44aab08522418c05f06c4cb9e7bf1c1ca8b71a0781114b80c73f68dfa00f\n",
            "  Stored in directory: /root/.cache/pip/wheels/d5/55/64/fd4dddcc5f1c25eebd90b5291c3769101dc978c70165685512\n",
            "Successfully built pycuda\n",
            "Building wheels for collected packages: pytools\n",
            "  Building wheel for pytools (setup.py) ... \u001b[?25l\u001b[?25hdone\n",
            "  Created wheel for pytools: filename=pytools-2021.2.7-py2.py3-none-any.whl size=60644 sha256=06f5d1026ff1829d57886b0f012f42bf110fd7246d194eff0b34225f1b9bfb8d\n",
            "  Stored in directory: /root/.cache/pip/wheels/a0/b5/e5/e65d25997fd77729b9aa214645add18688483e48bbcbab6ffc\n",
            "Successfully built pytools\n",
            "Installing collected packages: mako, pytools, pycuda\n",
            "Successfully installed mako-1.1.4 pycuda-2021.1 pytools-2021.2.7\n"
          ],
          "name": "stdout"
        }
      ]
    },
    {
      "cell_type": "markdown",
      "metadata": {
        "id": "RQd5hYAbZEDX"
      },
      "source": [
        "## 2. Ejecutar Blur con CUDA de Python.\n",
        "### - se requiere archivo gaussian_blur.cu \n",
        "### - para ajustar la intensidad del blur, cambiar la variable \"sigma\"// esto se podria parametrizar lindo como hizo el profe\n"
      ]
    },
    {
      "cell_type": "code",
      "metadata": {
        "colab": {
          "base_uri": "https://localhost:8080/"
        },
        "id": "nQzja6t9Tk2U",
        "outputId": "354ea980-ecb9-4666-86e4-00baf8cf6bbb"
      },
      "source": [
        "# /**\n",
        "# * @author Gia Duy DUONG <giaduy.duong@student.lut.fi>\n",
        "# * @project Gaussian Blur - GPGPU Computing assignment\n",
        "# * @copyright Copyright (c) 2019 Gia Duy DUONG\n",
        "# */\n",
        "\n",
        "# ########################### #\n",
        "# import cuda & other modules #\n",
        "# ########################### #\n",
        "import pycuda.autoinit\n",
        "import pycuda.driver as drv\n",
        "import pycuda.compiler as compiler\n",
        "import numpy as np\n",
        "import math\n",
        "import sys\n",
        "import timeit\n",
        "from PIL import Image\n",
        "\n",
        "# ############### #\n",
        "# check arguments #\n",
        "# ############### #\n",
        "try:\n",
        "    input_image = str('imagen.jpg')\n",
        "    output_image = str('result.jpg')\n",
        "except IndexError:\n",
        "    sys.exit(\"No input/output image\")\n",
        "\n",
        "\n",
        "# ################################################# #\n",
        "# load image in to array and extract color channels #\n",
        "# ################################################# #\n",
        "try:\n",
        "    img = Image.open(input_image)\n",
        "    input_array = np.array(img)\n",
        "    red_channel = input_array[:, :, 0].copy()\n",
        "    green_channel = input_array[:, :, 1].copy()\n",
        "    blue_channel = input_array[:, :, 2].copy()\n",
        "except FileNotFoundError:\n",
        "    sys.exit(\"Cannot load image file\")\n",
        "\n",
        "\n",
        "# ######################################## #\n",
        "# generate gaussian kernel (size of N * N) #\n",
        "# ######################################## #\n",
        "sigma = 5  # standard deviation of the distribution\n",
        "kernel_width = int(3 * sigma)\n",
        "if kernel_width % 2 == 0:\n",
        "    kernel_width = kernel_width - 1  # make sure kernel width only sth 3,5,7 etc\n",
        "\n",
        "# create empty matrix for the gaussian kernel #\n",
        "kernel_matrix = np.empty((kernel_width, kernel_width), np.float32)\n",
        "kernel_half_width = kernel_width // 2\n",
        "for i in range(-kernel_half_width, kernel_half_width + 1):\n",
        "    for j in range(-kernel_half_width, kernel_half_width + 1):\n",
        "        kernel_matrix[i + kernel_half_width][j + kernel_half_width] = (\n",
        "                np.exp(-(i ** 2 + j ** 2) / (2 * sigma ** 2))\n",
        "                / (2 * np.pi * sigma ** 2)\n",
        "        )\n",
        "gaussian_kernel = kernel_matrix / kernel_matrix.sum()\n",
        "\n",
        "\n",
        "# #################################################################### #\n",
        "# calculate the CUDA threats/blocks/gird base on width/height of image\n",
        "# #################################################################### #\n",
        "height, width = input_array.shape[:2]\n",
        "dim_block = 32\n",
        "dim_grid_x = math.ceil(width / dim_block)\n",
        "dim_grid_y = math.ceil(height / dim_block)\n",
        "\n",
        "# load CUDA code\n",
        "mod = compiler.SourceModule(open('gaussian_blur.cu').read())\n",
        "apply_filter = mod.get_function('applyFilter')\n",
        "\n",
        "# ##################\n",
        "# apply the  filter\n",
        "# ##################\n",
        "# start time\n",
        "time_started = timeit.default_timer()\n",
        "for channel in (red_channel, green_channel, blue_channel):\n",
        "    apply_filter(\n",
        "        drv.In(channel),\n",
        "        drv.Out(channel),\n",
        "        np.uint32(width),\n",
        "        np.uint32(height),\n",
        "        drv.In(gaussian_kernel),\n",
        "        np.uint32(kernel_width),\n",
        "        block=(dim_block, dim_block, 1),\n",
        "        grid=(dim_grid_x, dim_grid_y)\n",
        "    )\n",
        "# end time\n",
        "time_ended = timeit.default_timer()\n",
        "\n",
        "\n",
        "# ####################################################################### #\n",
        "# create the output array with the same shape and type as the input array #\n",
        "# ####################################################################### #\n",
        "output_array = np.empty_like(input_array)\n",
        "output_array[:, :, 0] = red_channel\n",
        "output_array[:, :, 1] = green_channel\n",
        "output_array[:, :, 2] = blue_channel\n",
        "\n",
        "# save result image\n",
        "Image.fromarray(output_array).save(output_image)\n",
        "\n",
        "# display total time\n",
        "print('Total processing time: ', time_ended - time_started, 's')\n"
      ],
      "execution_count": 14,
      "outputs": [
        {
          "output_type": "stream",
          "text": [
            "Total processing time:  0.00683113099989896 s\n"
          ],
          "name": "stdout"
        }
      ]
    }
  ]
}